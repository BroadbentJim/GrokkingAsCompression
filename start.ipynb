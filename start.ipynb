{
 "cells": [
  {
   "cell_type": "code",
   "execution_count": 1,
   "metadata": {},
   "outputs": [],
   "source": [
    "import torch\n",
    "import torch.nn as nn\n",
    "import torch.nn.functional as F"
   ]
  },
  {
   "cell_type": "code",
   "execution_count": 2,
   "metadata": {},
   "outputs": [],
   "source": [
    "import matplotlib.pyplot as plt"
   ]
  },
  {
   "cell_type": "code",
   "execution_count": 3,
   "metadata": {},
   "outputs": [],
   "source": [
    "from sklearn.model_selection import train_test_split"
   ]
  },
  {
   "cell_type": "code",
   "execution_count": 4,
   "metadata": {},
   "outputs": [],
   "source": [
    "device ='cuda'"
   ]
  },
  {
   "cell_type": "code",
   "execution_count": 5,
   "metadata": {},
   "outputs": [],
   "source": [
    "MODULUS= 31\n",
    "HIDDEN_DIM = 100"
   ]
  },
  {
   "cell_type": "code",
   "execution_count": 6,
   "metadata": {},
   "outputs": [],
   "source": [
    "#The following generates a random batch from the distrubition\n",
    "def generate_batch_modular_arithmetic(batch_size=64, modulus=31):\n",
    "    X = torch.randint(high=30, size=(batch_size, 2))\n",
    "    y = X.sum(1) % 31\n",
    "    X = F.one_hot(X, num_classes=modulus).view(batch_size, 2*modulus)\n",
    "    X = X.to(torch.float)\n",
    "    y = F.one_hot(y, num_classes=modulus)\n",
    "    y = y.to(torch.float)\n",
    "    return X,y"
   ]
  },
  {
   "cell_type": "code",
   "execution_count": 7,
   "metadata": {},
   "outputs": [],
   "source": [
    "#However grokking is a specific test/train phenomena\n",
    "#So I need to work out how to generate the entire dataset"
   ]
  },
  {
   "cell_type": "code",
   "execution_count": 8,
   "metadata": {},
   "outputs": [],
   "source": [
    "def generate_entire_dataset(modulus):\n",
    "    A = torch.arange(modulus)\n",
    "    B = torch.arange(modulus)\n",
    "    A_B = torch.cartesian_prod(A,B)\n",
    "    C = A_B.sum(1) % modulus\n",
    "\n",
    "    X = F.one_hot(A_B).to(torch.float).view(modulus**2,2*modulus)\n",
    "    Y = F.one_hot(C)\n",
    "    X = X.to(torch.float)\n",
    "    Y = Y.to(torch.float)\n",
    "    return X, Y"
   ]
  },
  {
   "cell_type": "code",
   "execution_count": 9,
   "metadata": {},
   "outputs": [],
   "source": [
    "class MLP(nn.Module):\n",
    "    def __init__(self, input_dim, hidden_dim, output_dim):\n",
    "        super().__init__()\n",
    "        self.input_dim = input_dim\n",
    "        self.hidden_dimension = hidden_dim\n",
    "        self.output_dim = output_dim\n",
    "        \n",
    "        self.linear_layers = nn.Sequential(\n",
    "            nn.Linear(input_dim, hidden_dim),\n",
    "            nn.ReLU(),\n",
    "            nn.Linear(hidden_dim, hidden_dim),\n",
    "            nn.ReLU(),\n",
    "            nn.Linear(hidden_dim, hidden_dim),\n",
    "            nn.ReLU(),\n",
    "            nn.Linear(hidden_dim, output_dim)\n",
    "        )\n",
    "    def forward(self, x):\n",
    "        x = self.linear_layers(x)\n",
    "        return x"
   ]
  },
  {
   "cell_type": "code",
   "execution_count": 11,
   "metadata": {},
   "outputs": [],
   "source": [
    "def count_parameters(model):\n",
    "    return sum(p.numel() for p in model.parameters() if p.requires_grad)"
   ]
  },
  {
   "cell_type": "code",
   "execution_count": 12,
   "metadata": {},
   "outputs": [],
   "source": [
    "def calculate_accuracy(y_pred, y):\n",
    "    acc = y_pred.argmax(1).eq(y.argmax(1)).to(torch.float).mean()\n",
    "    return acc"
   ]
  },
  {
   "cell_type": "code",
   "execution_count": 45,
   "metadata": {},
   "outputs": [],
   "source": [
    "def train_from_batches(model, optimiser, N_EPOCHS, criterion, device):\n",
    "    losses = []\n",
    "    model = model.to(device)\n",
    "    criterion = criterion.to(device)\n",
    "    model.train()\n",
    "    for i in range(N_EPOCHS):\n",
    "        X,y = generate_batch_modular_arithmetic(64, MODULUS)\n",
    "        X,y = X.to(device), y.to(device)\n",
    "        optimiser.zero_grad()\n",
    "        y_pred = model(X)\n",
    "        \n",
    "        loss = criterion(y_pred, y)\n",
    "        loss.backward()\n",
    "        optimiser.step()\n",
    "        \n",
    "        if i % 50 == 0:\n",
    "            print(i, loss.item())\n",
    "        losses.append(loss.item())\n",
    "    return losses"
   ]
  },
  {
   "cell_type": "code",
   "execution_count": 31,
   "metadata": {},
   "outputs": [],
   "source": [
    "def train(model, train_set, test_set, N_EPOCHS, device='cuda'):\n",
    "    losses = []\n",
    "    train_acc = []\n",
    "    test_acc = []\n",
    "    \n",
    "    model = model.to(device)\n",
    "    optimiser = torch.optim.AdamW(model.parameters(), lr=1e-3, weight_decay=0.2)\n",
    "    criterion = nn.CrossEntropyLoss()\n",
    "    criterion = criterion.to(device)\n",
    "    model.train()\n",
    "    X_train, y_train = train_set[0], train_set[1]\n",
    "    X_test, y_test = test_set[0], test_set[1]\n",
    "    X_test, y_test = X_test.to(device), y_test.to(device)\n",
    "    train_size = len(X_train)\n",
    "    for i in range(N_EPOCHS):\n",
    "        model.train()\n",
    "        idx = torch.randperm(train_size)[:64]\n",
    "        X,y = X_train[idx], y_train[idx]\n",
    "        X,y = X.to(device), y.to(device)\n",
    "        optimiser.zero_grad()\n",
    "        y_pred = model(X)\n",
    "        \n",
    "        loss = criterion(y_pred, y)\n",
    "        accuracy = calculate_accuracy(y_pred, y)\n",
    "        loss.backward()\n",
    "        optimiser.step()\n",
    "        # print(y_pred.shape, y.shape)\n",
    "        \n",
    "        if i % 50 == 0:\n",
    "            print(i, loss.item(), accuracy.item())\n",
    "\n",
    "        losses.append(loss.item())\n",
    "        train_acc.append(accuracy.item())\n",
    "        with torch.inference_mode():\n",
    "            model.eval()\n",
    "            test_preds = model(X_test)\n",
    "            test_accuracy = calculate_accuracy(test_preds, y_test)\n",
    "            test_acc.append(test_accuracy.item())\n",
    "    return losses, train_acc, test_acc"
   ]
  },
  {
   "cell_type": "code",
   "execution_count": 24,
   "metadata": {},
   "outputs": [],
   "source": [
    "X_full,y_full = generate_entire_dataset(MODULUS)\n",
    "X_train, X_test, y_train, y_test = train_test_split(X_full, y_full, test_size=0.2, random_state=42)"
   ]
  },
  {
   "cell_type": "code",
   "execution_count": 34,
   "metadata": {},
   "outputs": [],
   "source": [
    "model = MLP(2*MODULUS, HIDDEN_DIM, MODULUS)"
   ]
  },
  {
   "cell_type": "code",
   "execution_count": 35,
   "metadata": {},
   "outputs": [
    {
     "name": "stdout",
     "output_type": "stream",
     "text": [
      "0 3.44781494140625 0.015625\n",
      "50 3.415618419647217 0.046875\n",
      "100 3.4073486328125 0.046875\n",
      "150 3.403024673461914 0.046875\n",
      "200 3.3170523643493652 0.0625\n",
      "250 3.1300435066223145 0.140625\n",
      "300 2.894505500793457 0.234375\n",
      "350 2.5184597969055176 0.25\n",
      "400 1.846604347229004 0.546875\n",
      "450 1.4068090915679932 0.640625\n",
      "500 1.0696282386779785 0.734375\n",
      "550 0.8121851682662964 0.796875\n",
      "600 0.5993212461471558 0.90625\n",
      "650 0.35992538928985596 0.96875\n",
      "700 0.2655182480812073 0.984375\n",
      "750 0.2729094922542572 0.96875\n",
      "800 0.1717938929796219 0.984375\n",
      "850 0.09832128882408142 1.0\n",
      "900 0.09670752286911011 1.0\n",
      "950 0.11366666853427887 1.0\n",
      "1000 0.06705756485462189 1.0\n",
      "1050 0.05644912272691727 1.0\n",
      "1100 0.05634228512644768 1.0\n",
      "1150 0.045604899525642395 1.0\n",
      "1200 0.04146353155374527 1.0\n",
      "1250 0.03909550607204437 1.0\n",
      "1300 0.04243016242980957 1.0\n",
      "1350 0.03680162504315376 1.0\n",
      "1400 0.024010926485061646 1.0\n",
      "1450 0.02497725374996662 1.0\n",
      "1500 0.02900351956486702 1.0\n",
      "1550 0.030284389853477478 1.0\n",
      "1600 0.022419173270463943 1.0\n",
      "1650 0.0230500977486372 1.0\n",
      "1700 0.024554094299674034 1.0\n",
      "1750 0.02570907026529312 1.0\n",
      "1800 0.02087375894188881 1.0\n",
      "1850 0.01782645657658577 1.0\n",
      "1900 0.016715122386813164 1.0\n",
      "1950 0.020636368542909622 1.0\n",
      "2000 0.019557390362024307 1.0\n",
      "2050 0.01669640839099884 1.0\n",
      "2100 0.017886893823742867 1.0\n",
      "2150 0.015045704320073128 1.0\n",
      "2200 0.013381600379943848 1.0\n",
      "2250 0.01775798760354519 1.0\n",
      "2300 0.014125954359769821 1.0\n",
      "2350 0.014822953380644321 1.0\n",
      "2400 0.013720996677875519 1.0\n",
      "2450 0.014215443283319473 1.0\n",
      "2500 0.011887889355421066 1.0\n",
      "2550 0.011203763075172901 1.0\n",
      "2600 0.011877791956067085 1.0\n",
      "2650 0.01454860158264637 1.0\n",
      "2700 0.011004013009369373 1.0\n",
      "2750 0.009698787704110146 1.0\n",
      "2800 0.01076462585479021 1.0\n",
      "2850 0.009605908766388893 1.0\n",
      "2900 0.011626031249761581 1.0\n",
      "2950 0.009532881900668144 1.0\n",
      "3000 0.010056417435407639 1.0\n",
      "3050 0.0079736253246665 1.0\n",
      "3100 0.007649277336895466 1.0\n",
      "3150 0.008302596397697926 1.0\n",
      "3200 0.00889987125992775 1.0\n",
      "3250 0.008370079100131989 1.0\n",
      "3300 0.007608584128320217 1.0\n",
      "3350 0.007406370714306831 1.0\n",
      "3400 0.007684496231377125 1.0\n",
      "3450 0.007430095225572586 1.0\n",
      "3500 0.006650133058428764 1.0\n",
      "3550 0.00609253253787756 1.0\n",
      "3600 0.0062150610610842705 1.0\n",
      "3650 0.005749911069869995 1.0\n",
      "3700 0.006342063657939434 1.0\n",
      "3750 0.005683453753590584 1.0\n",
      "3800 0.005168460309505463 1.0\n",
      "3850 0.005122154485434294 1.0\n",
      "3900 0.0062996260821819305 1.0\n",
      "3950 0.005004109814763069 1.0\n",
      "4000 0.0047829896211624146 1.0\n",
      "4050 0.004715373739600182 1.0\n",
      "4100 0.00426107831299305 1.0\n",
      "4150 0.004626849200576544 1.0\n",
      "4200 0.004423501901328564 1.0\n",
      "4250 0.004381023347377777 1.0\n",
      "4300 0.003877845359966159 1.0\n",
      "4350 0.0043938979506492615 1.0\n",
      "4400 0.00350990891456604 1.0\n",
      "4450 0.003447774099186063 1.0\n",
      "4500 0.004354966338723898 1.0\n",
      "4550 0.0033933259546756744 1.0\n",
      "4600 0.003559335134923458 1.0\n",
      "4650 0.0030350342858582735 1.0\n",
      "4700 0.0031466884538531303 1.0\n",
      "4750 0.003348352387547493 1.0\n",
      "4800 0.003032578621059656 1.0\n",
      "4850 0.0032389904372394085 1.0\n",
      "4900 0.0026748869568109512 1.0\n",
      "4950 0.003069649450480938 1.0\n",
      "5000 0.002824151888489723 1.0\n",
      "5050 0.0024336494971066713 1.0\n",
      "5100 0.0025344095192849636 1.0\n",
      "5150 0.0027419421821832657 1.0\n",
      "5200 0.0024654516018927097 1.0\n",
      "5250 0.0026988943573087454 1.0\n",
      "5300 0.002628062618896365 1.0\n",
      "5350 0.0021046227775514126 1.0\n",
      "5400 0.0022940330673009157 1.0\n",
      "5450 0.002119540935382247 1.0\n",
      "5500 0.0021656579338014126 1.0\n",
      "5550 0.001998340943828225 1.0\n",
      "5600 0.0023260992020368576 1.0\n",
      "5650 0.0016370050143450499 1.0\n",
      "5700 0.0017741888295859098 1.0\n",
      "5750 0.001546376384794712 1.0\n",
      "5800 0.0018948107026517391 1.0\n",
      "5850 0.0016831816174089909 1.0\n",
      "5900 0.0015707099810242653 1.0\n",
      "5950 0.0015302833635360003 1.0\n",
      "6000 0.0014455686323344707 1.0\n",
      "6050 0.0012929968070238829 1.0\n",
      "6100 0.0014287690864875913 1.0\n",
      "6150 0.0014511714689433575 1.0\n",
      "6200 0.0015671469736844301 1.0\n",
      "6250 0.0014121667481958866 1.0\n",
      "6300 0.0012759201927110553 1.0\n",
      "6350 0.00126368657220155 1.0\n",
      "6400 0.0012388157192617655 1.0\n",
      "6450 0.0010921387001872063 1.0\n",
      "6500 0.0011423432733863592 1.0\n",
      "6550 0.0010611757170408964 1.0\n",
      "6600 0.001103500835597515 1.0\n",
      "6650 0.0009297291981056333 1.0\n",
      "6700 0.0009985597571358085 1.0\n",
      "6750 0.0010996924247592688 1.0\n",
      "6800 0.0009738270891830325 1.0\n",
      "6850 0.0010825616773217916 1.0\n",
      "6900 0.0009347310406155884 1.0\n",
      "6950 0.0009439972345717251 1.0\n",
      "7000 0.0009688484715297818 1.0\n",
      "7050 0.0009271509479731321 1.0\n",
      "7100 0.0008408295689150691 1.0\n",
      "7150 0.0008080559782683849 1.0\n",
      "7200 0.0008138795383274555 1.0\n",
      "7250 0.0007398074376396835 1.0\n",
      "7300 0.0007113120518624783 1.0\n",
      "7350 0.0006950283423066139 1.0\n",
      "7400 0.0007065588142722845 1.0\n",
      "7450 0.000692194327712059 1.0\n",
      "7500 0.0006234726752154529 1.0\n",
      "7550 0.000619205879047513 1.0\n",
      "7600 0.000641369610093534 1.0\n",
      "7650 0.0006759188836440444 1.0\n",
      "7700 0.0005985167226754129 1.0\n",
      "7750 0.0005798431229777634 1.0\n",
      "7800 0.0005833033937960863 1.0\n",
      "7850 0.0004903908702544868 1.0\n",
      "7900 0.0005287037929520011 1.0\n",
      "7950 0.0005552240181714296 1.0\n",
      "8000 0.0005113296210765839 1.0\n",
      "8050 0.000443028548033908 1.0\n",
      "8100 0.0004947164561599493 1.0\n",
      "8150 0.0005260988837108016 1.0\n",
      "8200 0.0005165322218090296 1.0\n",
      "8250 0.00041103846160694957 1.0\n",
      "8300 0.0004416277806740254 1.0\n",
      "8350 0.000408568128477782 1.0\n",
      "8400 0.0003899760195054114 1.0\n",
      "8450 0.00046948244562372565 1.0\n",
      "8500 0.00035755769931711257 1.0\n",
      "8550 0.00040294788777828217 1.0\n",
      "8600 0.00037703715497627854 1.0\n",
      "8650 0.000312980730086565 1.0\n",
      "8700 0.0003231128794141114 1.0\n",
      "8750 0.000328633701428771 1.0\n",
      "8800 0.00032105573336593807 1.0\n",
      "8850 0.0003190611023455858 1.0\n",
      "8900 0.0003286181017756462 1.0\n",
      "8950 0.0003283284604549408 1.0\n",
      "9000 0.0002852954203262925 1.0\n",
      "9050 0.00030369486194103956 1.0\n",
      "9100 0.00030062947189435363 1.0\n",
      "9150 0.00024799079983495176 1.0\n",
      "9200 0.00025007809745147824 1.0\n",
      "9250 0.00026971823535859585 1.0\n",
      "9300 0.0002680618199519813 1.0\n",
      "9350 0.0002578360727056861 1.0\n",
      "9400 0.0002553374506533146 1.0\n",
      "9450 0.00022945759701542556 1.0\n",
      "9500 0.0002197638968937099 1.0\n",
      "9550 0.00023640887229703367 1.0\n",
      "9600 0.00021636526798829436 1.0\n",
      "9650 0.00021133149857632816 1.0\n",
      "9700 0.00019239677931182086 1.0\n",
      "9750 0.00020515700452961028 1.0\n",
      "9800 0.00018076057313010097 1.0\n",
      "9850 0.00020788784604519606 1.0\n",
      "9900 0.00017825902614276856 1.0\n",
      "9950 0.00018592439300846308 1.0\n",
      "10000 0.00017875991761684418 1.0\n",
      "10050 0.00017953127098735422 1.0\n",
      "10100 0.00015712917956989259 1.0\n",
      "10150 0.0001528384309494868 1.0\n",
      "10200 0.00015066030027810484 1.0\n",
      "10250 0.00015545744099654257 1.0\n",
      "10300 0.00016226641309913248 1.0\n",
      "10350 0.00014173786621540785 1.0\n",
      "10400 0.00014574002125300467 1.0\n",
      "10450 0.0001601020194357261 1.0\n",
      "10500 0.00013134549953974783 1.0\n",
      "10550 0.00012078088184352964 1.0\n",
      "10600 0.00012388790491968393 1.0\n",
      "10650 0.00011429566075094044 1.0\n",
      "10700 0.00012090129894204438 1.0\n",
      "10750 0.00011491890472825617 1.0\n",
      "10800 0.00010439768084324896 1.0\n",
      "10850 0.00011174261453561485 1.0\n",
      "10900 0.00010582814866211265 1.0\n",
      "10950 0.00010425070649944246 1.0\n",
      "11000 9.695954213384539e-05 1.0\n",
      "11050 0.00010091667354572564 1.0\n",
      "11100 8.851336315274239e-05 1.0\n",
      "11150 9.675633191363886e-05 1.0\n",
      "11200 0.00010172119073104113 1.0\n",
      "11250 8.02382783149369e-05 1.0\n",
      "11300 8.348283881787211e-05 1.0\n",
      "11350 7.236775127239525e-05 1.0\n",
      "11400 7.467553223250434e-05 1.0\n",
      "11450 7.683955482207239e-05 1.0\n",
      "11500 8.517735113855451e-05 1.0\n",
      "11550 6.888866482768208e-05 1.0\n",
      "11600 7.163216650951654e-05 1.0\n",
      "11650 7.538833597209305e-05 1.0\n",
      "11700 6.45359032205306e-05 1.0\n",
      "11750 7.045692473184317e-05 1.0\n",
      "11800 7.185728463809937e-05 1.0\n",
      "11850 7.030006963759661e-05 1.0\n",
      "11900 5.930430052103475e-05 1.0\n",
      "11950 6.462361488956958e-05 1.0\n",
      "12000 5.993749073240906e-05 1.0\n",
      "12050 6.280942761804909e-05 1.0\n",
      "12100 5.475986108649522e-05 1.0\n",
      "12150 5.7732257118914276e-05 1.0\n",
      "12200 5.40483342774678e-05 1.0\n",
      "12250 5.423277252702974e-05 1.0\n",
      "12300 5.041628173785284e-05 1.0\n",
      "12350 4.894874291494489e-05 1.0\n",
      "12400 5.370183498598635e-05 1.0\n",
      "12450 4.822787013836205e-05 1.0\n",
      "12500 4.538390930974856e-05 1.0\n",
      "12550 5.002906982554123e-05 1.0\n",
      "12600 4.125464693061076e-05 1.0\n",
      "12650 5.01070826430805e-05 1.0\n",
      "12700 4.0023442124947906e-05 1.0\n",
      "12750 4.0641825762577355e-05 1.0\n",
      "12800 4.0632505260873586e-05 1.0\n",
      "12850 4.014823934994638e-05 1.0\n",
      "12900 4.044250454171561e-05 1.0\n",
      "12950 3.8507248973473907e-05 1.0\n",
      "13000 3.489208029350266e-05 1.0\n",
      "13050 3.253038084949367e-05 1.0\n",
      "13100 3.272412141086534e-05 1.0\n",
      "13150 3.289921005489305e-05 1.0\n",
      "13200 3.397755790501833e-05 1.0\n",
      "13250 3.495734199532308e-05 1.0\n",
      "13300 3.213738091289997e-05 1.0\n",
      "13350 2.7302194212097675e-05 1.0\n",
      "13400 3.0608236556872725e-05 1.0\n",
      "13450 2.8963579097762704e-05 1.0\n",
      "13500 2.6268426154274493e-05 1.0\n",
      "13550 2.905854671553243e-05 1.0\n",
      "13600 2.6393228836241178e-05 1.0\n",
      "13650 2.57469237112673e-05 1.0\n",
      "13700 2.319140185136348e-05 1.0\n",
      "13750 2.503354880900588e-05 1.0\n",
      "13800 2.2329066268866882e-05 1.0\n",
      "13850 2.2781663574278355e-05 1.0\n",
      "13900 2.3673774194321595e-05 1.0\n",
      "13950 2.0799874619115144e-05 1.0\n",
      "14000 2.0969386241631582e-05 1.0\n",
      "14050 2.0395673345774412e-05 1.0\n",
      "14100 1.852746936492622e-05 1.0\n",
      "14150 2.0203826352371834e-05 1.0\n",
      "14200 1.967114985745866e-05 1.0\n",
      "14250 2.2152096789795905e-05 1.0\n",
      "14300 2.0084644347662106e-05 1.0\n",
      "14350 1.943459028552752e-05 1.0\n",
      "14400 1.647118006076198e-05 1.0\n",
      "14450 1.7948230379261076e-05 1.0\n",
      "14500 1.6692829376552254e-05 1.0\n",
      "14550 1.4711027688463219e-05 1.0\n",
      "14600 1.5115218957362231e-05 1.0\n",
      "14650 1.482279367337469e-05 1.0\n",
      "14700 1.6037181922001764e-05 1.0\n",
      "14750 1.6365020201192237e-05 1.0\n",
      "14800 1.3612078873848077e-05 1.0\n",
      "14850 1.1708494639606215e-05 1.0\n",
      "14900 1.509657158749178e-05 1.0\n",
      "14950 1.5608744433848187e-05 1.0\n",
      "15000 1.3707077414437663e-05 1.0\n",
      "15050 1.2855873137596063e-05 1.0\n",
      "15100 1.3101733202347532e-05 1.0\n",
      "15150 1.073993553291075e-05 1.0\n",
      "15200 1.3010439943172969e-05 1.0\n",
      "15250 1.1376945622032508e-05 1.0\n",
      "15300 1.2261688425496686e-05 1.0\n",
      "15350 1.0175568604608998e-05 1.0\n",
      "15400 9.950184903573245e-06 1.0\n",
      "15450 1.039162543747807e-05 1.0\n",
      "15500 9.678243259259034e-06 1.0\n",
      "15550 1.077532670024084e-05 1.0\n",
      "15600 8.085696208581794e-06 1.0\n",
      "15650 9.22375238587847e-06 1.0\n",
      "15700 8.525284101779107e-06 1.0\n",
      "15750 8.387442903767806e-06 1.0\n",
      "15800 8.65007041284116e-06 1.0\n",
      "15850 8.061487278610002e-06 1.0\n",
      "15900 9.110138307732996e-06 1.0\n",
      "15950 7.944131539261434e-06 1.0\n",
      "16000 7.899436241132207e-06 1.0\n",
      "16050 7.804440429026727e-06 1.0\n",
      "16100 7.77278000896331e-06 1.0\n",
      "16150 7.258691766764969e-06 1.0\n",
      "16200 7.3779024205578025e-06 1.0\n",
      "16250 7.316430583159672e-06 1.0\n",
      "16300 6.6607904045667965e-06 1.0\n",
      "16350 6.64030358166201e-06 1.0\n",
      "16400 6.4745272538857535e-06 1.0\n",
      "16450 5.725749360863119e-06 1.0\n",
      "16500 5.839362529513892e-06 1.0\n",
      "16550 5.602815690508578e-06 1.0\n",
      "16600 6.370217306539416e-06 1.0\n",
      "16650 4.732967227027984e-06 1.0\n",
      "16700 5.64379433853901e-06 1.0\n",
      "16750 4.92481831315672e-06 1.0\n",
      "16800 4.630522198567633e-06 1.0\n",
      "16850 4.958343197358772e-06 1.0\n",
      "16900 4.572780653688824e-06 1.0\n",
      "16950 4.433081812749151e-06 1.0\n",
      "17000 3.8947814573475625e-06 1.0\n",
      "17050 4.539251676760614e-06 1.0\n",
      "17100 3.967423253925517e-06 1.0\n",
      "17150 4.2710335037554614e-06 1.0\n",
      "17200 4.4517091737361625e-06 1.0\n",
      "17250 4.25613052357221e-06 1.0\n",
      "17300 4.036340214952361e-06 1.0\n",
      "17350 3.870564341923455e-06 1.0\n",
      "17400 4.060555511387065e-06 1.0\n",
      "17450 4.189073479210492e-06 1.0\n",
      "17500 3.281973931734683e-06 1.0\n",
      "17550 3.8165499063325115e-06 1.0\n",
      "17600 3.322951670270413e-06 1.0\n",
      "17650 3.2279574497806607e-06 1.0\n",
      "17700 3.142274863421335e-06 1.0\n",
      "17750 3.010028649441665e-06 1.0\n",
      "17800 3.1385504826175747e-06 1.0\n",
      "17850 2.9485618142643943e-06 1.0\n",
      "17900 2.654264790180605e-06 1.0\n",
      "17950 2.6095610792253865e-06 1.0\n",
      "18000 2.6561267532088095e-06 1.0\n",
      "18050 2.7213195608055685e-06 1.0\n",
      "18100 2.520154339435976e-06 1.0\n",
      "18150 2.456824631735799e-06 1.0\n",
      "18200 2.2221324798010755e-06 1.0\n",
      "18250 2.244484221591847e-06 1.0\n",
      "18300 2.546231144151534e-06 1.0\n",
      "18350 2.39908308685699e-06 1.0\n",
      "18400 2.050769808192854e-06 1.0\n",
      "18450 2.1159619336685864e-06 1.0\n",
      "18500 2.11409906114568e-06 1.0\n",
      "18550 2.0433190002222545e-06 1.0\n",
      "18600 1.927835455717286e-06 1.0\n",
      "18650 2.1774289962195326e-06 1.0\n",
      "18700 1.9334231637913035e-06 1.0\n",
      "18750 1.9445992620603647e-06 1.0\n",
      "18800 1.7974501815842814e-06 1.0\n",
      "18850 1.7378461052430794e-06 1.0\n",
      "18900 1.6670657032591407e-06 1.0\n",
      "18950 2.1010607724747388e-06 1.0\n",
      "19000 1.6912798628254677e-06 1.0\n",
      "19050 1.4174715943227056e-06 1.0\n",
      "19100 1.3839440953233861e-06 1.0\n",
      "19150 1.5720706869615242e-06 1.0\n",
      "19200 1.4211967709343298e-06 1.0\n",
      "19250 1.5366806564998114e-06 1.0\n",
      "19300 1.3541418866225285e-06 1.0\n",
      "19350 1.220031663251575e-06 1.0\n",
      "19400 1.3019878224440617e-06 1.0\n",
      "19450 1.3001251772948308e-06 1.0\n",
      "19500 1.2051305020577274e-06 1.0\n",
      "19550 1.149251033893961e-06 1.0\n",
      "19600 1.2349328244454227e-06 1.0\n",
      "19650 1.277773549190897e-06 1.0\n",
      "19700 1.180916115117725e-06 1.0\n",
      "19750 1.1082730679845554e-06 1.0\n",
      "19800 1.2572843388625188e-06 1.0\n",
      "19850 1.0058276984636905e-06 1.0\n",
      "19900 1.1082729542977177e-06 1.0\n",
      "19950 1.0747454552983982e-06 1.0\n"
     ]
    }
   ],
   "source": [
    "losses, train_acc, test_acc = train(model, (X_train, y_train), (X_test, y_test), 20000)"
   ]
  },
  {
   "cell_type": "code",
   "execution_count": 36,
   "metadata": {},
   "outputs": [
    {
     "data": {
      "text/plain": [
       "<matplotlib.legend.Legend at 0x1bbc1611b10>"
      ]
     },
     "execution_count": 36,
     "metadata": {},
     "output_type": "execute_result"
    },
    {
     "data": {
      "image/png": "[encoded data removed]",
      "text/plain": [
       "<Figure size 640x480 with 1 Axes>"
      ]
     },
     "metadata": {},
     "output_type": "display_data"
    }
   ],
   "source": [
    "plt.plot(train_acc, label='train')\n",
    "plt.plot(test_acc, label='test')\n",
    "plt.legend()"
   ]
  },
  {
   "cell_type": "code",
   "execution_count": 84,
   "metadata": {},
   "outputs": [],
   "source": [
    "def calculate_sample_r2(Y, lambdas):\n",
    "    #Y (d,N)\n",
    "    #lambdas (N,1)\n",
    "    d,N = Y.shape\n",
    "    \n",
    "    Y_Lambda = 1/N * Y @ lambdas \n",
    "\n",
    "    Exp_Y =  Y.mean(1)\n",
    "    Exp_Ysq = (Y**2).mean(1)\n",
    "    \n",
    "    \n",
    "    numerator =  Y_Lambda - 0.5 * Exp_Y\n",
    "    denominator = (Exp_Ysq - Exp_Y**2) * lambdas.var(correction=0)\n",
    "    return numerator**2 / denominator"
   ]
  },
  {
   "cell_type": "code",
   "execution_count": 52,
   "metadata": {},
   "outputs": [],
   "source": [
    "Y= torch.randn(5,10)\n",
    "lambdas = torch.linspace(start=0,end=1,steps=10)"
   ]
  },
  {
   "cell_type": "code",
   "execution_count": 78,
   "metadata": {},
   "outputs": [
    {
     "data": {
      "text/plain": [
       "tensor([0.0193, 0.1623, 0.0587, 0.0010, 0.0094])"
      ]
     },
     "execution_count": 78,
     "metadata": {},
     "output_type": "execute_result"
    }
   ],
   "source": [
    "calculate_sample_r2(Y, lambdas)"
   ]
  },
  {
   "cell_type": "code",
   "execution_count": 79,
   "metadata": {},
   "outputs": [],
   "source": [
    "A = torch.zeros(5)\n",
    "B = torch.ones(5)"
   ]
  },
  {
   "cell_type": "code",
   "execution_count": 80,
   "metadata": {},
   "outputs": [],
   "source": [
    "X = torch.zeros(5,10)\n",
    "for i in range(10):\n",
    "    X[:,i] = A + lambdas[i] * (B - A)"
   ]
  },
  {
   "cell_type": "code",
   "execution_count": 85,
   "metadata": {},
   "outputs": [
    {
     "data": {
      "text/plain": [
       "tensor([[0.0000, 0.1111, 0.2222, 0.3333, 0.4444, 0.5556, 0.6667, 0.7778, 0.8889,\n",
       "         1.0000],\n",
       "        [0.0000, 0.1111, 0.2222, 0.3333, 0.4444, 0.5556, 0.6667, 0.7778, 0.8889,\n",
       "         1.0000],\n",
       "        [0.0000, 0.1111, 0.2222, 0.3333, 0.4444, 0.5556, 0.6667, 0.7778, 0.8889,\n",
       "         1.0000],\n",
       "        [0.0000, 0.1111, 0.2222, 0.3333, 0.4444, 0.5556, 0.6667, 0.7778, 0.8889,\n",
       "         1.0000],\n",
       "        [0.0000, 0.1111, 0.2222, 0.3333, 0.4444, 0.5556, 0.6667, 0.7778, 0.8889,\n",
       "         1.0000]])"
      ]
     },
     "execution_count": 85,
     "metadata": {},
     "output_type": "execute_result"
    }
   ],
   "source": [
    "X"
   ]
  },
  {
   "cell_type": "code",
   "execution_count": 86,
   "metadata": {},
   "outputs": [
    {
     "data": {
      "text/plain": [
       "tensor([1., 1., 1., 1., 1.])"
      ]
     },
     "execution_count": 86,
     "metadata": {},
     "output_type": "execute_result"
    }
   ],
   "source": [
    "calculate_sample_r2(X, lambdas)"
   ]
  },
  {
   "cell_type": "code",
   "execution_count": 113,
   "metadata": {},
   "outputs": [],
   "source": [
    "def calculate_L_specific(method, first_data, second_data, N=21):\n",
    "    model.eval()\n",
    "    d = first_data.shape[-1]\n",
    "    assert second_data.shape[-1] == d\n",
    "    #Assume method takes (*,d) -> (*,D)\n",
    "    X = torch.zeros(N,d) #Will hold the pathway\n",
    "    lambdas = torch.linspace(0,1,steps=21).to(device)\n",
    "    for i in range(N):\n",
    "        X[i,:] = first_data + lambdas[i] * (second_data - first_data)\n",
    "    X = X.to(device)\n",
    "    with torch.inference_mode():\n",
    "        Y = method(X) #(N,d)\n",
    "    Y = Y.T #(d,N)\n",
    "    vec_r2 = calculate_sample_r2(Y, lambdas)\n",
    "    return vec_r2.mean()"
   ]
  },
  {
   "cell_type": "code",
   "execution_count": 114,
   "metadata": {},
   "outputs": [
    {
     "data": {
      "text/plain": [
       "tensor(0.9315, device='cuda:0')"
      ]
     },
     "execution_count": 114,
     "metadata": {},
     "output_type": "execute_result"
    }
   ],
   "source": [
    "X_full = X_full.to(device)\n",
    "calculate_L_specific(model, X_full[0], X_full[1])"
   ]
  },
  {
   "cell_type": "code",
   "execution_count": 122,
   "metadata": {},
   "outputs": [],
   "source": [
    "L = torch.zeros(5,5).fill_diagonal_(1)"
   ]
  },
  {
   "cell_type": "code",
   "execution_count": 123,
   "metadata": {},
   "outputs": [
    {
     "data": {
      "text/plain": [
       "tensor([[1., 0., 0., 0., 0.],\n",
       "        [0., 1., 0., 0., 0.],\n",
       "        [0., 0., 1., 0., 0.],\n",
       "        [0., 0., 0., 1., 0.],\n",
       "        [0., 0., 0., 0., 1.]])"
      ]
     },
     "execution_count": 123,
     "metadata": {},
     "output_type": "execute_result"
    }
   ],
   "source": [
    "L"
   ]
  },
  {
   "cell_type": "code",
   "execution_count": 155,
   "metadata": {},
   "outputs": [],
   "source": [
    "def calculate_L_full(method, X_data, num_samples=21):\n",
    "    N = X_data.shape[0]\n",
    "    L = torch.zeros((N,N)).fill_diagonal_(0.5)\n",
    "    for i in range(N):\n",
    "        # print(i)\n",
    "        for j in range(i):\n",
    "            first_data, second_data = X_data[i], X_data[j]\n",
    "            Lij = calculate_L_specific(method, first_data, second_data, num_samples)\n",
    "            L[i,j] = Lij\n",
    "    L += L.clone().T\n",
    "    return L"
   ]
  },
  {
   "cell_type": "code",
   "execution_count": 157,
   "metadata": {},
   "outputs": [
    {
     "name": "stdout",
     "output_type": "stream",
     "text": [
      "1.41 s ± 80.7 ms per loop (mean ± std. dev. of 7 runs, 1 loop each)\n"
     ]
    }
   ],
   "source": [
    "%%timeit\n",
    "L = calculate_L_full(model, X_test.to(device)[:50])"
   ]
  },
  {
   "cell_type": "code",
   "execution_count": 151,
   "metadata": {},
   "outputs": [],
   "source": [
    "def calculate_SNL(L):\n",
    "    evals = torch.linalg.eigh(L)[0]\n",
    "    evals_tilde = evals.abs()/evals.abs().sum()\n",
    "    SNL = -(evals_tilde * torch.log2(evals_tilde)).sum()\n",
    "    return SNL"
   ]
  }
 ],
 "metadata": {
  "kernelspec": {
   "display_name": "torch_env",
   "language": "python",
   "name": "python3"
  },
  "language_info": {
   "codemirror_mode": {
    "name": "ipython",
    "version": 3
   },
   "file_extension": ".py",
   "mimetype": "text/x-python",
   "name": "python",
   "nbconvert_exporter": "python",
   "pygments_lexer": "ipython3",
   "version": "3.11.5"
  }
 },
 "nbformat": 4,
 "nbformat_minor": 2
}
